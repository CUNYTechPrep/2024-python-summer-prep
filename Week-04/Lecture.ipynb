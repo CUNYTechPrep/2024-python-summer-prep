{
 "cells": [
  {
   "attachments": {},
   "cell_type": "markdown",
   "metadata": {},
   "source": [
    "# Classes aka Objects\n",
    "\n",
    "Classes provide a means of bundling data and functionality together. Creating a new class creates a new type of object, allowing new instances of that type to be made. Each class instance can have attributes attached to it for maintaining its state. Class instances can also have methods (defined by its class) for modifying its state.\n",
    "\n",
    "* All classes have a function called `__init__()`, which is always executed when the class is being initiated.\n",
    "\n",
    "* Objects can also contain methods. Methods in objects are functions that belong to the object.\n",
    "\n",
    "* The `self` parameter is a reference to the current instance of the class, and is used to access variables that belongs to the class.\n",
    "\n"
   ]
  },
  {
   "attachments": {},
   "cell_type": "markdown",
   "metadata": {},
   "source": [
    "# Making another change to see if this gets updated in the fork or not. "
   ]
  },
  {
   "cell_type": "code",
   "execution_count": 21,
   "metadata": {},
   "outputs": [
    {
     "name": "stdout",
     "output_type": "stream",
     "text": [
      "Weezy, says woof\n",
      "9\n"
     ]
    }
   ],
   "source": [
    "class Dog:\n",
    "    # You must have the __init__ function\n",
    "    def __init__(self, name, age):\n",
    "        # class variables\n",
    "        self.name = name\n",
    "        self.age = age\n",
    "    \n",
    "    def speak(self):\n",
    "        print(f\"{self.name}, says woof\")\n",
    "        #print('%s says woof' % self.name)\n",
    "        #print(str(self.name), 'says woof.')\n",
    "        \n",
    "    def say_age(self):\n",
    "        print(str(self.age))\n",
    "\n",
    "\n",
    "# create a Dog object\n",
    "my_dog = Dog(name='Weezy', age=9)\n",
    "my_dog.speak()\n",
    "my_dog.say_age()\n",
    "\n",
    "another_dog = Dog(name='Bubbles', age=1)\n",
    "\n",
    "# # call the objects description method\n",
    "# my_dog.description()\n",
    "\n",
    "# # call the objects speak method\n",
    "# my_dog.speak(sound='woof')\n"
   ]
  },
  {
   "cell_type": "code",
   "execution_count": null,
   "metadata": {},
   "outputs": [],
   "source": [
    "x = str(my_dog) \n",
    "x, type(x)"
   ]
  },
  {
   "attachments": {},
   "cell_type": "markdown",
   "metadata": {},
   "source": [
    "# How would we make a new Human class that has their name, age, and home address?"
   ]
  },
  {
   "cell_type": "code",
   "execution_count": null,
   "metadata": {},
   "outputs": [],
   "source": [
    "class Human:\n",
    "    def __init__(self, name, age, home_address):\n",
    "        self.name = name\n",
    "        self.age = age\n",
    "        self.home_address = home_address\n",
    "\n",
    "man = Human('Homer', 50, '742 Evergreen Terrace')\n",
    "print(man.name)\n",
    "\n",
    "print(man)\n"
   ]
  },
  {
   "attachments": {},
   "cell_type": "markdown",
   "metadata": {},
   "source": [
    "# How would you give it a function to grow older by 5 years?"
   ]
  },
  {
   "cell_type": "code",
   "execution_count": null,
   "metadata": {},
   "outputs": [],
   "source": [
    "class Human:\n",
    "    def __init__(self, name, age, home_address=None):\n",
    "        self.name = name\n",
    "        self.age = age\n",
    "        self.home_address = home_address\n",
    "    \n",
    "    def grow(self, years=5):\n",
    "        self.age = self.age + years\n",
    "\n",
    "    def __str__(self):\n",
    "        return f\"Human(name={self.name}, age={self.age})\"\n",
    "\n",
    "        \n",
    "dude = Human('Homer', 50)\n",
    "print(dude)"
   ]
  },
  {
   "cell_type": "code",
   "execution_count": null,
   "metadata": {},
   "outputs": [],
   "source": [
    "def say_something(other_thing, input_string='hello'):\n",
    "    print(input_string, other_thing)\n",
    "    \n",
    "#say_something()  \n",
    "#say_something('tee shirt')  "
   ]
  },
  {
   "cell_type": "code",
   "execution_count": null,
   "metadata": {},
   "outputs": [],
   "source": [
    "## CHAT GPT EXAMPLE\n",
    "\n",
    "class BankAccount:\n",
    "    def __init__(self, account_holder, initial_balance):\n",
    "        self.account_holder = account_holder\n",
    "        self.__balance = initial_balance  # Private attribute\n",
    "\n",
    "    def deposit(self, amount):\n",
    "        if amount > 0:\n",
    "            self.__balance += amount\n",
    "\n",
    "    def withdraw(self, amount):\n",
    "        if amount <= self.__balance:\n",
    "            self.__balance -= amount\n",
    "        else:\n",
    "            print(\"Insufficient funds\")\n",
    "\n",
    "    def get_balance(self):\n",
    "        return f\"Account holder: {self.account_holder}, Balance: ${self.__balance}\"\n",
    "\n",
    "# Creating an object (instance of the BankAccount class)\n",
    "my_account = BankAccount(account_holder=\"Alice\", initial_balance=1000)\n",
    "my_account.deposit(500)\n",
    "print(my_account.get_balance())  # Output: Account holder: Alice, Balance: $1500\n",
    "my_account.withdraw(2000)        # Output: Insufficient funds\n"
   ]
  },
  {
   "cell_type": "markdown",
   "metadata": {},
   "source": [
    "### Who cares?  Why should we use classes?\n",
    "0. Use objects to model real world entites. Use Case: You want to model a Car in a way that encapsulates its attributes and behaviors.\n",
    "0. When you are going to have a lot of the same types of data. (think of simulating traffic, or programming a banking program)\n",
    "0. You can EXTEND classes. Use clasess to build other classes. Think about villians in a game and having to change all their names to uppercase."
   ]
  },
  {
   "cell_type": "code",
   "execution_count": null,
   "metadata": {},
   "outputs": [],
   "source": [
    "# AGAIN GPT EXAMPLE\n",
    "class Car:\n",
    "    def __init__(self, make, model, year):\n",
    "        self.make = make\n",
    "        self.model = model\n",
    "        self.year = year\n",
    "        self.is_running = False\n",
    "\n",
    "    def start_engine(self):\n",
    "        self.is_running = True\n",
    "        print(f\"The {self.year} {self.make} {self.model}'s engine is now running.\")\n",
    "\n",
    "    def stop_engine(self):\n",
    "        self.is_running = False\n",
    "        print(f\"The {self.year} {self.make} {self.model}'s engine is now off.\")\n",
    "\n",
    "# Creating an object (instance of the Car class)\n",
    "my_car = Car(make=\"Toyota\", model=\"Corolla\", year=2020)\n",
    "my_car.start_engine()  # Output: The 2020 Toyota Corolla's engine is now running.\n",
    "my_car.stop_engine()   # Output: The 2020 Toyota Corolla's engine is now off.\n"
   ]
  },
  {
   "cell_type": "code",
   "execution_count": 22,
   "metadata": {},
   "outputs": [
    {
     "name": "stdout",
     "output_type": "stream",
     "text": [
      "100\n",
      "HERO now has 70 health.\n",
      "GOBLIN has been defeated.\n",
      "70\n",
      "HERO now has 59 health.\n",
      "59\n"
     ]
    }
   ],
   "source": [
    "## Zack and ChatGPT\n",
    "class Character:\n",
    "    def __init__(self, name, health):\n",
    "        self.name = name\n",
    "        self.health = health\n",
    "\n",
    "    def take_damage(self, damage):\n",
    "        self.health -= damage\n",
    "        if self.health <= 0:\n",
    "            self.health = 0\n",
    "            print(f\"{self.name} has been defeated.\")\n",
    "        else:\n",
    "            print(f\"{self.name} now has {self.health} health.\")\n",
    "\n",
    "\n",
    "class Player(Character):\n",
    "    def __init__(self, name, health, level):\n",
    "        super().__init__(name, health)\n",
    "        self.level = level\n",
    "\n",
    "    def level_up(self):\n",
    "        self.level += 1\n",
    "        print(f\"{self.name} leveled up to level {self.level}!\")\n",
    "\n",
    "\n",
    "\n",
    "class Enemy(Character):\n",
    "    def __init__(self, name, health, strength):\n",
    "        super().__init__(name, health)\n",
    "        self.strength = strength\n",
    "\n",
    "    def deliver_damage(self, target_player, amount):\n",
    "        target_player.take_damage(amount)\n",
    "\n",
    "# Creating objects (instances of Player and Enemy classes)\n",
    "player = Player(name=\"Hero\", health=100, level=1)\n",
    "enemy = Enemy(name=\"Goblin\", health=50, strength=10)\n",
    "print(player.health)\n",
    "player.take_damage(30)  # Output: Hero now has 70 health.\n",
    "enemy.take_damage(60)   # Output: Goblin has been defeated.\n",
    "\n",
    "print(player.health)\n",
    "\n",
    "enemy.deliver_damage(player, 11)\n",
    "print(player.health)\n",
    "\n"
   ]
  },
  {
   "cell_type": "markdown",
   "metadata": {},
   "source": [
    "# Classes / Objects in the real word. \n",
    "A pandas dataframe is a class.\n",
    "If we look at the [code base](https://github.com/pandas-dev/pandas/blob/main/pandas/core/frame.py#L1750), you can see it for your self. \n",
    "\n",
    "\n",
    "\n"
   ]
  },
  {
   "cell_type": "markdown",
   "metadata": {},
   "source": [
    "## Break and continue\n",
    "I borred from some [great examples here](https://www.programiz.com/python-programming/break-continue) by progrmiz.com"
   ]
  },
  {
   "attachments": {
    "image.png": {
     "image/png": "[encoded data removed]"
    }
   },
   "cell_type": "markdown",
   "metadata": {},
   "source": [
    "![image.png](attachment:image.png)"
   ]
  },
  {
   "cell_type": "code",
   "execution_count": 18,
   "metadata": {},
   "outputs": [
    {
     "name": "stdout",
     "output_type": "stream",
     "text": [
      "how many times will i print?\n",
      "how many times will i print?\n",
      "how many times will i print?\n",
      "how many times will i print?\n"
     ]
    }
   ],
   "source": [
    "i = 1\n",
    "end_at = 5\n",
    "\n",
    "while i < end_at:\n",
    "    i += 1\n",
    "    new_var = 'how many times will i print?'\n",
    "    print(new_var)"
   ]
  },
  {
   "cell_type": "code",
   "execution_count": 19,
   "metadata": {},
   "outputs": [
    {
     "name": "stdout",
     "output_type": "stream",
     "text": [
      "how many times will i print?\n"
     ]
    }
   ],
   "source": [
    "i = 1\n",
    "end_at = 999\n",
    "\n",
    "while i < end_at:\n",
    "    i+=1\n",
    "    new_var = 'how many times will i print?'\n",
    "    print(new_var)\n",
    "    break"
   ]
  },
  {
   "cell_type": "code",
   "execution_count": 20,
   "metadata": {},
   "outputs": [
    {
     "name": "stdout",
     "output_type": "stream",
     "text": [
      "0\n",
      "1\n",
      "2\n"
     ]
    }
   ],
   "source": [
    "for i in range(5):\n",
    "    if i == 3:\n",
    "        break\n",
    "    print(i)"
   ]
  },
  {
   "attachments": {
    "image.png": {
     "image/png": "[encoded data removed]"
    }
   },
   "cell_type": "markdown",
   "metadata": {},
   "source": [
    "![image.png](attachment:image.png)"
   ]
  },
  {
   "cell_type": "code",
   "execution_count": 10,
   "metadata": {},
   "outputs": [
    {
     "name": "stdout",
     "output_type": "stream",
     "text": [
      "0\n",
      "1\n",
      "2\n",
      "4\n"
     ]
    }
   ],
   "source": [
    "for i in range(5):\n",
    "    if i == 3:\n",
    "        continue\n",
    "    print(i)"
   ]
  },
  {
   "cell_type": "code",
   "execution_count": 11,
   "metadata": {},
   "outputs": [
    {
     "name": "stdout",
     "output_type": "stream",
     "text": [
      "11 YOOO I CAN PRINT STUFF\n"
     ]
    }
   ],
   "source": [
    "my_list = [1,2,3,99,999,99999]\n",
    "\n",
    "for x in my_list:\n",
    "    new_var = 10 + x\n",
    "    print(new_var, \"YOOO I CAN PRINT STUFF\")\n",
    "    break"
   ]
  },
  {
   "cell_type": "code",
   "execution_count": 13,
   "metadata": {},
   "outputs": [
    {
     "name": "stdout",
     "output_type": "stream",
     "text": [
      "1 x is smaller\n",
      "9999 x is bigger\n"
     ]
    }
   ],
   "source": [
    "x = 10\n",
    "my_list = [1, 9999, 5, 1111]\n",
    "\n",
    "for x in my_list:\n",
    "    if x > 100:\n",
    "        print(x, 'x is bigger')\n",
    "        break\n",
    "    else:\n",
    "        print(x, 'x is smaller')"
   ]
  },
  {
   "cell_type": "code",
   "execution_count": 15,
   "metadata": {},
   "outputs": [
    {
     "name": "stdout",
     "output_type": "stream",
     "text": [
      "1 x is smaller\n",
      "101 x is bigger\n",
      "5 x is smaller\n",
      "1111 x is bigger\n"
     ]
    }
   ],
   "source": [
    "x = 10\n",
    "my_list = [1, 101, 5, 1111]\n",
    "\n",
    "for x in my_list:\n",
    "    if x > 100:\n",
    "        print(x, 'x is bigger')\n",
    "        continue\n",
    "    print(x, 'x is smaller')"
   ]
  },
  {
   "cell_type": "code",
   "execution_count": 16,
   "metadata": {},
   "outputs": [
    {
     "name": "stdout",
     "output_type": "stream",
     "text": [
      "You don't have a dog\n"
     ]
    }
   ],
   "source": [
    "def check_if_dog_breed(breeds, pet):\n",
    "    for breed in breeds:\n",
    "        if breed == pet:\n",
    "            print(\"You have a dog.\")\n",
    "            break\n",
    "    else:\n",
    "        print(\"You don't have a dog\")\n",
    "\n",
    "check_if_dog_breed([\"pug\", \"boxer\", 'pitty', 'Beagle'], \"Pug\")"
   ]
  },
  {
   "cell_type": "code",
   "execution_count": 17,
   "metadata": {},
   "outputs": [
    {
     "name": "stdout",
     "output_type": "stream",
     "text": [
      "TOP of for loop 10\n",
      "at bottom of for loop 10\n",
      "TOP of for loop -5\n",
      "TOP of for loop 20\n",
      "at bottom of for loop 20\n",
      "TOP of for loop 15\n",
      "at bottom of for loop 15\n",
      "TOP of for loop -8\n",
      "TOP of for loop 30\n",
      "at bottom of for loop 30\n",
      "TOP of for loop 25\n",
      "Found the target number: 25\n"
     ]
    }
   ],
   "source": [
    "numbers = [10, -5, 20, 15, -8, 30, 25]\n",
    "target = 25\n",
    "\n",
    "for num in numbers:\n",
    "    print(\"TOP of for loop\", num)\n",
    "    if num < 0:\n",
    "        continue  # Skip negative numbers\n",
    "    if num == target:\n",
    "        print(\"Found the target number:\", target)\n",
    "        break  # Stop searching once found\n",
    "    print(\"at bottom of for loop\", num)\n",
    "else:\n",
    "    print(\"Target number not found.\")"
   ]
  },
  {
   "cell_type": "markdown",
   "metadata": {},
   "source": [
    "## Smart use of return"
   ]
  },
  {
   "cell_type": "code",
   "execution_count": null,
   "metadata": {},
   "outputs": [],
   "source": [
    "## examples of returning easy stuff\n",
    "\n",
    "# Break and continue code\n",
    "def check_if_dog_breed(breeds, pet):\n",
    "    for breed in breeds:\n",
    "        if breed == pet:\n",
    "            return(\"This is a dog.\")\n",
    "    return(\"NOT A DOG\")\n",
    "\n",
    "dog_breeds = [\"pug\", \"boxer\", 'pitty', 'Beagle']\n",
    "my_dog = 'Pug'\n",
    "\n",
    "result = check_if_dog_breed(\n",
    "    breeds=dog_breeds,\n",
    "    pet=my_dog\n",
    ")\n",
    "\n",
    "print(result)"
   ]
  },
  {
   "cell_type": "markdown",
   "metadata": {},
   "source": [
    "## Try and except code. "
   ]
  },
  {
   "cell_type": "code",
   "execution_count": null,
   "metadata": {},
   "outputs": [],
   "source": [
    "d = {}\n",
    "try:\n",
    "    print(d['key']) # <- this WOULD throw an error, but does not. \n",
    "except:\n",
    "    d['key'] = [1,2,3] # <- this DOES run becuse the first line did throw an error\n",
    "\n",
    "print(d)"
   ]
  },
  {
   "cell_type": "code",
   "execution_count": null,
   "metadata": {},
   "outputs": [],
   "source": [
    "x = 9\n",
    "try:\n",
    "    x = x + 10\n",
    "except:\n",
    "    x = \"ABOVE LINE WORKED, THUS THIS LINE DIDN'T RUN\"\n",
    "\n",
    "print(x)"
   ]
  },
  {
   "cell_type": "markdown",
   "metadata": {},
   "source": [
    "## Checking / inforcing type"
   ]
  },
  {
   "cell_type": "code",
   "execution_count": null,
   "metadata": {},
   "outputs": [],
   "source": [
    "x = 99\n",
    "\n",
    "is_valid = isinstance(x, int)\n",
    "\n",
    "if is_valid is not True:\n",
    "    print('Yo, you have a bad value, x is suppsoed to be an int')\n",
    "\n",
    "\n",
    "x = \"Hello\"\n",
    "is_valid = isinstance(x, int)\n",
    "if is_valid is not True:\n",
    "    print('Yo, you have a bad value, x is suppsoed to be an int')"
   ]
  },
  {
   "cell_type": "code",
   "execution_count": null,
   "metadata": {},
   "outputs": [],
   "source": [
    "x = 99\n",
    "is_valid = isinstance(x, str) # Returns a True or False Boolean\n",
    "if is_valid is not True:\n",
    "    raise Exception(\"Sorry, x is suppsoed to be an int\")\n",
    "\n",
    "print('will this line run or not?')"
   ]
  },
  {
   "cell_type": "code",
   "execution_count": null,
   "metadata": {},
   "outputs": [],
   "source": [
    "x = \"Hello\"\n",
    "is_valid = isinstance(x, (float, int, str, list, dict, tuple))\n",
    "print(is_valid)"
   ]
  },
  {
   "cell_type": "code",
   "execution_count": null,
   "metadata": {},
   "outputs": [],
   "source": [
    "x = 99\n",
    "if type(x) != str:\n",
    "    print('This is supposed to be a string')"
   ]
  },
  {
   "cell_type": "markdown",
   "metadata": {},
   "source": [
    "## String Formatting\n",
    "[List of all formatting options](https://www.w3schools.com/python/python_string_formatting.asp)"
   ]
  },
  {
   "cell_type": "markdown",
   "metadata": {},
   "source": []
  },
  {
   "cell_type": "code",
   "execution_count": null,
   "metadata": {},
   "outputs": [],
   "source": [
    "#Use \",\" to add a comma as a thousand separator:\n",
    "\n",
    "txt = f\"The universe is {13800000000:,} years old.\"\n",
    "print(txt)\n"
   ]
  },
  {
   "cell_type": "markdown",
   "metadata": {},
   "source": [
    "## Inputs"
   ]
  },
  {
   "cell_type": "code",
   "execution_count": null,
   "metadata": {},
   "outputs": [],
   "source": [
    "username = input(\"Enter username:\")\n",
    "print(\"Username is: \" + username)"
   ]
  },
  {
   "cell_type": "markdown",
   "metadata": {},
   "source": [
    "## Running a raw .py file"
   ]
  },
  {
   "attachments": {},
   "cell_type": "markdown",
   "metadata": {},
   "source": [
    "# Reading in files."
   ]
  },
  {
   "cell_type": "code",
   "execution_count": 23,
   "metadata": {
    "collapsed": true
   },
   "outputs": [
    {
     "name": "stdout",
     "output_type": "stream",
     "text": [
      "<class '_io.TextIOWrapper'>\n",
      "Dwayne Michael Carter Jr. (born September 27, 1982),[2] \n",
      "known professionally as Lil Wayne, is an American rapper, singer, songwriter and record executive.. \n",
      "He is commonly regarded as one of the most influential hip hop artists of his generation,[3] \n",
      "and often cited as one of the greatest rappers of all time.[4][5] \n",
      "His career began in 1995, at the age of 12, when he was signed by rapper Birdman, joining Cash Money Records as the youngest member of the label.[6] \n",
      "From then on, Wayne was the flagship artist of Cash Money Records before ending his association with the company in June 2018.[7]\n",
      "\n",
      "In 1995, Wayne was put in a duo with label-mate B.G. (at the time known as Lil Doogie) and they recorded an album, True Story, released that year, although Wayne (at the time known as Baby D) only appeared on three tracks.[8] \n",
      "Wayne and B.G. soon joined the southern hip hop group Hot Boys, with Cash Money label-mates Juvenile and Turk in 1997; they released their debut album Get It How U Live! in October that year. The Hot Boys became popular following the release of the album Guerrilla Warfare (1999) and the song Bling Bling.\n",
      "\n",
      "Lil Waynes solo debut album Tha Block Is Hot (1999) was his solo breakthrough, and he reached higher popularity with his fourth album Tha Carter (2004) and fifth album Tha Carter II (2005), as well as several mixtapes and collaborations throughout 2006 and 2007. He gained more prominence within the music industry with his sixth album Tha Carter III (2008), with first-week sales of over one million copies in the US. The album won the Grammy Award for Best Rap Album and included successful singles A Milli, Got Money (featuring T-Pain), and Lollipop (featuring Static Major)—the latter being his first single to reach number one on the Billboard Hot 100. In February 2010, Wayne released his seventh studio album, Rebirth, which experimented with rap rock and was met with generally negative reviews. A month later in March 2010, Lil Wayne began serving an 8-month jail sentence in New York after being convicted of criminal possession of a weapon stemming from an incident in July 2007. His eighth studio album I Am Not a Human Being (2010) was released during his incarceration, while his 2011 album Tha Carter IV was released following his release. Tha Carter IV sold 964,000 copies in its first week in the United States.[9] His twelfth studio album Tha Carter V was released in 2018 after multiple delays. Waynes thirteenth album, Funeral, was released in early 2020.[10]\n",
      "\n",
      "Lil Wayne has sold over 120 million records worldwide, including more than 20 million albums and 70 million digital tracks in the United States, making him one of the worlds best-selling music artists.[11][12][13] He has won five Grammy Awards, 11 BET Awards, four Billboard Music Awards, two MTV Video Music Awards and eight NAACP Image Awards. On September 27, 2012, he became the first male artist to surpass Elvis Presley with the most entries on the Billboard Hot 100, with 109 songs.[14][15] Lil Wayne also currently serves as the chief executive officer (CEO) of his own label, Young Money Entertainment.\n"
     ]
    }
   ],
   "source": [
    "# Define the path to the file you want to read.\n",
    "path_to_file = 'data/lil-wayne.txt'\n",
    "file_handle = open(file=path_to_file)\n",
    "print(type(file_handle))\n",
    "data = file_handle.read()\n",
    "file_handle.close()\n",
    "print(data)"
   ]
  },
  {
   "cell_type": "code",
   "execution_count": 24,
   "metadata": {
    "scrolled": true
   },
   "outputs": [
    {
     "data": {
      "text/plain": [
       "list"
      ]
     },
     "execution_count": 24,
     "metadata": {},
     "output_type": "execute_result"
    }
   ],
   "source": [
    "# Define the path to the file you want to read.\n",
    "# path_to_file = 'data/lil-wayne.txt'\n",
    "path_to_file = '../Week-03/data/lil-wayne.txt'\n",
    "\n",
    "file_handle = open(file=path_to_file)\n",
    "\n",
    "data = file_handle.readlines()\n",
    "file_handle.close()\n",
    "type(data)\n"
   ]
  },
  {
   "cell_type": "code",
   "execution_count": null,
   "metadata": {
    "collapsed": true
   },
   "outputs": [],
   "source": []
  },
  {
   "cell_type": "code",
   "execution_count": null,
   "metadata": {
    "collapsed": true
   },
   "outputs": [],
   "source": []
  },
  {
   "cell_type": "code",
   "execution_count": null,
   "metadata": {},
   "outputs": [],
   "source": []
  },
  {
   "cell_type": "code",
   "execution_count": null,
   "metadata": {},
   "outputs": [],
   "source": [
    "import os\n",
    "filename = os.path.join(os.getcwd(), \"data\")\n",
    "open(filename+'/lil-wayne.txt)"
   ]
  },
  {
   "attachments": {},
   "cell_type": "markdown",
   "metadata": {},
   "source": [
    "# Writing files"
   ]
  },
  {
   "cell_type": "code",
   "execution_count": null,
   "metadata": {},
   "outputs": [],
   "source": [
    "# Create a new file name\n",
    "my_new_file = 'my_new_file.txt'\n",
    "\n",
    "file_object = open(my_new_file, mode='w')\n",
    "\n",
    "# Create some text to give the file.\n",
    "my_text = 'There are two trillion GALAXIES in the universe.  Each galaxy has approx 100 billion stars.'\n",
    "\n",
    "file_object.write(my_text)\n",
    "\n",
    "# Close the file. \n",
    "file_object.close()"
   ]
  },
  {
   "cell_type": "code",
   "execution_count": null,
   "metadata": {},
   "outputs": [],
   "source": []
  },
  {
   "cell_type": "markdown",
   "metadata": {},
   "source": [
    "## Commenting Code\n",
    "\n",
    "[This is the best resource i've ever seen on good commenting swagger](https://realpython.com/python-comments-guide/)\n",
    "\n",
    "#### Basics\n",
    "```python\n",
    "# This is a comment\n",
    "\n",
    "print(\"This will run.\")  # This won't run\n",
    "```\n",
    "#### Good \n",
    "Sudo code out what you are going to do first and use those as the comments.  \n",
    "\n",
    "#### Bad \n",
    "1. Smelly code"
   ]
  },
  {
   "cell_type": "code",
   "execution_count": 25,
   "metadata": {},
   "outputs": [],
   "source": [
    "# Smelly code\n",
    "#####  BAD EXAMPLE\n",
    "# A dictionary of families who live in each city\n",
    "mydict = {\n",
    "    \"Midtown\": [\"Powell\", \"Brantley\", \"Young\"],\n",
    "    \"Norcross\": [\"Montgomery\"], \n",
    "    \"Ackworth\": []\n",
    "}\n",
    "\n",
    "def a(dict):\n",
    "    # For each city\n",
    "    for p in dict:\n",
    "        # If there are no families in the city\n",
    "        if not mydict[p]:\n",
    "            # Say that there are no families\n",
    "            print(\"None.\")\n",
    "            \n",
    "#####  GOOD EXAMPLE\n",
    "### Not smelly code\n",
    "families_by_city = {\n",
    "    \"Midtown\": [\"Powell\", \"Brantley\", \"Young\"],\n",
    "    \"Norcross\": [\"Montgomery\"],\n",
    "    \"Ackworth\": [],\n",
    "}\n",
    "\n",
    "def no_families(cities):\n",
    "    for city in cities:\n",
    "        if not families_by_city[city]:\n",
    "            print(f\"No families in {city}.\")"
   ]
  },
  {
   "attachments": {},
   "cell_type": "markdown",
   "metadata": {},
   "source": [
    "# Libraries aka Packages\n",
    "* [Internal Packages aka Libraries that come with Python](https://docs.python.org/3/library/)\n",
    "* [Libraries that come with Anaconda](https://docs.anaconda.com/anaconda/packages/py3.8_osx-64/)\n",
    "* There are many other external libraries that you need to install via pip. \n",
    "* Review pip \n",
    "- `pip install <package_name>`\n",
    "- `pip install <package_name> --upgrade`\n",
    "- `pip list -v`\n",
    "\n",
    "It is python convention (aka best practice) to import your libraries at the beginning of your python file (so at the very top). \n",
    "\n",
    "\n",
    "\n",
    "### BE CAREFUL OF PIP SPOOFING \n",
    "* Some people will name A HARMFUL package that is SUPER SIMILAR to a popular package.  \n",
    "- `pip install panads` <-- could be harmful "
   ]
  },
  {
   "cell_type": "code",
   "execution_count": null,
   "metadata": {},
   "outputs": [],
   "source": [
    "## IT IS BAD PRACTICE TO IMPORT LIBRARIES NOT AT THE TOP OF YOUR FILE\n",
    "import string\n",
    "\n",
    "string.digits"
   ]
  },
  {
   "cell_type": "code",
   "execution_count": null,
   "metadata": {},
   "outputs": [],
   "source": [
    "import math\n",
    "print(math.factorial(10))\n",
    "print(math.sqrt(100))\n",
    "\n"
   ]
  },
  {
   "attachments": {},
   "cell_type": "markdown",
   "metadata": {},
   "source": [
    "# Reading documentation\n",
    "\n",
    "* pandas read_csv documentation https://pandas.pydata.org/docs/reference/api/pandas.read_csv.html"
   ]
  },
  {
   "cell_type": "code",
   "execution_count": null,
   "metadata": {},
   "outputs": [],
   "source": []
  },
  {
   "cell_type": "markdown",
   "metadata": {},
   "source": [
    "## Variable naming\n",
    "0. Make sure they mean someting. \n",
    "0. Overview on [good variable names](https://geo-python.github.io/site/notebooks/L1/gcp-1-variable-naming.html)\n",
    "0. Use python standard syntax of \"pothole_case_naming\" not other-TypesOFnamingCovnetions. \n",
    "0. Use things that are easily searchable by the find command or by your computers search bar. \n",
    "0. Never use `x` or `temp`, always use meaingful names. \n",
    "0. AVOID AT ALL COSTS USING python reserved keywords.\n",
    "    * words like `if and or def int string in for` and many many more \n",
    "\n",
    "\n",
    "If you are writing a program that calculates the area of a circle, you might name your variable \"radius\" or \"area\". Avoid using generic or meaningless names such as \"x\" or \"temp\". [more info](https://www.w3docs.com/learn-python/variable-names.html) \n"
   ]
  },
  {
   "cell_type": "code",
   "execution_count": null,
   "metadata": {},
   "outputs": [],
   "source": [
    "# Example 1: Calculating the area of a circle\n",
    "radius = 5\n",
    "pi = 3.14\n",
    "area = pi * radius ** 2\n",
    "\n",
    "# Example 2: Storing a person's information\n",
    "first_name = \"John\"\n",
    "LastName = \"Doe\" \n",
    "age = 30"
   ]
  },
  {
   "cell_type": "code",
   "execution_count": null,
   "metadata": {},
   "outputs": [],
   "source": [
    "## Linear Regression from scratch \n",
    "# https://medium.com/we-are-orb/linear-regression-in-python-without-scikit-learn-50aef4b8d122"
   ]
  },
  {
   "cell_type": "code",
   "execution_count": null,
   "metadata": {},
   "outputs": [],
   "source": [
    "print(__name__)\n"
   ]
  },
  {
   "cell_type": "code",
   "execution_count": 26,
   "metadata": {},
   "outputs": [],
   "source": [
    "### OKAY ONTO WORKING WITH .py FILES"
   ]
  },
  {
   "cell_type": "code",
   "execution_count": null,
   "metadata": {},
   "outputs": [],
   "source": []
  }
 ],
 "metadata": {
  "kernelspec": {
   "display_name": "Python 3 (ipykernel)",
   "language": "python",
   "name": "python3"
  },
  "language_info": {
   "codemirror_mode": {
    "name": "ipython",
    "version": 3
   },
   "file_extension": ".py",
   "mimetype": "text/x-python",
   "name": "python",
   "nbconvert_exporter": "python",
   "pygments_lexer": "ipython3",
   "version": "3.12.4"
  }
 },
 "nbformat": 4,
 "nbformat_minor": 4
}
