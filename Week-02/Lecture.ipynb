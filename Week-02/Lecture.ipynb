{
 "cells": [
  {
   "cell_type": "markdown",
   "metadata": {},
   "source": [
    "# Welcome to Jupyter Notebooks!"
   ]
  },
  {
   "cell_type": "markdown",
   "metadata": {},
   "source": [
    "Lets just play around with the interface. \n",
    "1. Review cells and what they do and their types.\n",
    "1. Review each icon.\n",
    "2. Talk about ordering and the dangers of notebooks.\n",
    "3. Most important shortcut of command+Enter\n",
    "4. NOTEBOOKS ARE NOT PRODUCTION CODE.  They are your notebook / sketchpad. \n"
   ]
  },
  {
   "cell_type": "code",
   "execution_count": 1,
   "metadata": {},
   "outputs": [],
   "source": [
    "x = 0"
   ]
  },
  {
   "cell_type": "code",
   "execution_count": 2,
   "metadata": {},
   "outputs": [
    {
     "name": "stdout",
     "output_type": "stream",
     "text": [
      "0\n"
     ]
    }
   ],
   "source": [
    "print(x)"
   ]
  },
  {
   "cell_type": "code",
   "execution_count": 3,
   "metadata": {},
   "outputs": [
    {
     "name": "stdout",
     "output_type": "stream",
     "text": [
      "99\n"
     ]
    }
   ],
   "source": [
    "x = 99\n",
    "print(x)"
   ]
  },
  {
   "cell_type": "code",
   "execution_count": 4,
   "metadata": {},
   "outputs": [
    {
     "name": "stdout",
     "output_type": "stream",
     "text": [
      "99\n"
     ]
    }
   ],
   "source": [
    "print(x)"
   ]
  },
  {
   "cell_type": "markdown",
   "metadata": {},
   "source": [
    "# Welcome to Python!"
   ]
  },
  {
   "cell_type": "code",
   "execution_count": 5,
   "metadata": {},
   "outputs": [
    {
     "name": "stdout",
     "output_type": "stream",
     "text": [
      "The Zen of Python, by Tim Peters\n",
      "\n",
      "Beautiful is better than ugly.\n",
      "Explicit is better than implicit.\n",
      "Simple is better than complex.\n",
      "Complex is better than complicated.\n",
      "Flat is better than nested.\n",
      "Sparse is better than dense.\n",
      "Readability counts.\n",
      "Special cases aren't special enough to break the rules.\n",
      "Although practicality beats purity.\n",
      "Errors should never pass silently.\n",
      "Unless explicitly silenced.\n",
      "In the face of ambiguity, refuse the temptation to guess.\n",
      "There should be one-- and preferably only one --obvious way to do it.\n",
      "Although that way may not be obvious at first unless you're Dutch.\n",
      "Now is better than never.\n",
      "Although never is often better than *right* now.\n",
      "If the implementation is hard to explain, it's a bad idea.\n",
      "If the implementation is easy to explain, it may be a good idea.\n",
      "Namespaces are one honking great idea -- let's do more of those!\n"
     ]
    }
   ],
   "source": [
    "# An easter egg from the creator of python. \n",
    "import this"
   ]
  },
  {
   "cell_type": "markdown",
   "metadata": {},
   "source": [
    "# Syntax Basics\n",
    "Python syntax is ___space sensitive___.  This makes python inherently readable and clean."
   ]
  },
  {
   "cell_type": "code",
   "execution_count": 6,
   "metadata": {
    "editable": true,
    "slideshow": {
     "slide_type": ""
    },
    "tags": []
   },
   "outputs": [
    {
     "name": "stdout",
     "output_type": "stream",
     "text": [
      "x\n"
     ]
    }
   ],
   "source": [
    "variable_x = 'x'\n",
    "print(variable_x)"
   ]
  },
  {
   "cell_type": "code",
   "execution_count": 7,
   "metadata": {},
   "outputs": [
    {
     "ename": "IndentationError",
     "evalue": "unexpected indent (3374261338.py, line 3)",
     "output_type": "error",
     "traceback": [
      "\u001b[0;36m  Cell \u001b[0;32mIn[7], line 3\u001b[0;36m\u001b[0m\n\u001b[0;31m    print(variable_y, variable_z)\u001b[0m\n\u001b[0m    ^\u001b[0m\n\u001b[0;31mIndentationError\u001b[0m\u001b[0;31m:\u001b[0m unexpected indent\n"
     ]
    }
   ],
   "source": [
    "variable_y = 'y'\n",
    "variable_z = 'z'\n",
    "  print(variable_y, variable_z)"
   ]
  },
  {
   "cell_type": "code",
   "execution_count": 8,
   "metadata": {},
   "outputs": [
    {
     "ename": "IndentationError",
     "evalue": "expected an indented block after function definition on line 6 (3976017211.py, line 7)",
     "output_type": "error",
     "traceback": [
      "\u001b[0;36m  Cell \u001b[0;32mIn[8], line 7\u001b[0;36m\u001b[0m\n\u001b[0;31m    print('NOT GONNA WORK')\u001b[0m\n\u001b[0m    ^\u001b[0m\n\u001b[0;31mIndentationError\u001b[0m\u001b[0;31m:\u001b[0m expected an indented block after function definition on line 6\n"
     ]
    }
   ],
   "source": [
    "def good_function():\n",
    "    print('YOLO')\n",
    "good_function()\n",
    "\n",
    "\n",
    "def bad_function():\n",
    "print('NOT GONNA WORK')"
   ]
  },
  {
   "cell_type": "markdown",
   "metadata": {},
   "source": [
    "# The four main objects in python.\n",
    "* Integers: Any whole number.\n",
    "* Floats: Any number with a decimal. \n",
    "* Strings: Any text between quotes.\n",
    "* Booleans: True or False variables."
   ]
  },
  {
   "cell_type": "markdown",
   "metadata": {},
   "source": [
    "## Integers:  Round numbers"
   ]
  },
  {
   "cell_type": "code",
   "execution_count": 9,
   "metadata": {},
   "outputs": [
    {
     "name": "stdout",
     "output_type": "stream",
     "text": [
      "<class 'int'> 100\n"
     ]
    }
   ],
   "source": [
    "# An Integer is a number without a decimal \n",
    "my_int = 100\n",
    "print( type(my_int), my_int  )"
   ]
  },
  {
   "cell_type": "markdown",
   "metadata": {},
   "source": [
    "## Floats:  Not round numbers\n",
    "- more memory expensive "
   ]
  },
  {
   "cell_type": "code",
   "execution_count": 10,
   "metadata": {},
   "outputs": [
    {
     "name": "stdout",
     "output_type": "stream",
     "text": [
      "<class 'float'> 99.99\n"
     ]
    }
   ],
   "source": [
    "my_float = 99.99\n",
    "print(type(my_float), my_float)"
   ]
  },
  {
   "cell_type": "markdown",
   "metadata": {},
   "source": [
    "## Boolean variables:  True or False // thats it. "
   ]
  },
  {
   "cell_type": "code",
   "execution_count": 11,
   "metadata": {},
   "outputs": [
    {
     "name": "stdout",
     "output_type": "stream",
     "text": [
      "<class 'bool'>\n",
      "True\n"
     ]
    }
   ],
   "source": [
    "is_student = True  # Boolean variable\n",
    "print(type(is_student))\n",
    "print(is_student)"
   ]
  },
  {
   "cell_type": "markdown",
   "metadata": {},
   "source": [
    "## String variables: Anything between quotes.\n"
   ]
  },
  {
   "cell_type": "code",
   "execution_count": 12,
   "metadata": {},
   "outputs": [
    {
     "name": "stdout",
     "output_type": "stream",
     "text": [
      "<class 'str'>\n",
      "Hello CTP\n"
     ]
    }
   ],
   "source": [
    "my_string = 'Hello CTP'\n",
    "print( type(my_string) )\n",
    "print(my_string)"
   ]
  },
  {
   "cell_type": "markdown",
   "metadata": {},
   "source": [
    "# Math with floats and ints:\n",
    "(the code below I generated with GPT-4o)"
   ]
  },
  {
   "cell_type": "code",
   "execution_count": 13,
   "metadata": {},
   "outputs": [
    {
     "name": "stdout",
     "output_type": "stream",
     "text": [
      "8\n",
      "2\n",
      "15\n",
      "1.6666666666666667\n",
      "1\n",
      "2\n",
      "125\n"
     ]
    }
   ],
   "source": [
    "### THANKS GPT-4o!!!\n",
    "\n",
    "# Addition (+)\n",
    "a = 5\n",
    "b = 3\n",
    "result_addition = a + b\n",
    "print(result_addition)  # Output: 8\n",
    "# Explanation: 5 + 3 equals 8\n",
    "\n",
    "# Subtraction (-)\n",
    "result_subtraction = a - b\n",
    "print(result_subtraction)  # Output: 2\n",
    "# Explanation: 5 - 3 equals 2\n",
    "\n",
    "# Multiplication (*)\n",
    "result_multiplication = a * b\n",
    "print(result_multiplication)  # Output: 15\n",
    "# Explanation: 5 * 3 equals 15\n",
    "\n",
    "# Division (/)\n",
    "result_division = a / b\n",
    "print(result_division)  # Output: 1.6666666666666667\n",
    "# Explanation: 5 / 3 equals approximately 1.67\n",
    "\n",
    "# Floor Division (//)\n",
    "result_floor_division = a // b\n",
    "print(result_floor_division)  # Output: 1\n",
    "# Explanation: 5 // 3 equals 1 (quotient without remainder)\n",
    "\n",
    "# Modulus (%)\n",
    "result_modulus = a % b\n",
    "print(result_modulus)  # Output: 2\n",
    "# Explanation: 5 % 3 equals 2 (remainder of the division)\n",
    "\n",
    "# Exponentiation (**)\n",
    "result_exponentiation = a ** b\n",
    "print(result_exponentiation)  # Output: 125\n",
    "# Explanation: 5 ** 3 equals 125 (5 raised to the power of 3)\n"
   ]
  },
  {
   "cell_type": "markdown",
   "metadata": {},
   "source": [
    "# String Methods"
   ]
  },
  {
   "cell_type": "code",
   "execution_count": 14,
   "metadata": {},
   "outputs": [
    {
     "name": "stdout",
     "output_type": "stream",
     "text": [
      "<class 'str'> Hello World\n",
      "Hello World, I love you.\n"
     ]
    }
   ],
   "source": [
    "my_string = 'Hello World'\n",
    "my_string = \"Hello World\"\n",
    "\n",
    "print(type(my_string), my_string)\n",
    "\n",
    "my_string = my_string + ', I love you.'\n",
    "print(my_string)"
   ]
  },
  {
   "cell_type": "markdown",
   "metadata": {},
   "source": [
    "## String methods are awesome.  They are _built in methods_.  They happen in place. \n",
    "\n",
    "You will see this syntax quite often, where a variable name is followed by a dot and then the name of an action, followed by a set of parentheses. The parentheses may be empty, or they may contain some values.\n",
    "\n",
    "variable_name.action()\n",
    "\n",
    "In this example, the word \"action\" is the name of a method. A method is something that can be done to a variable. The methods 'lower', 'title', and 'upper' are all functions that have been written into the Python language, which do something to strings. \n"
   ]
  },
  {
   "cell_type": "code",
   "execution_count": 15,
   "metadata": {},
   "outputs": [
    {
     "name": "stdout",
     "output_type": "stream",
     "text": [
      "hello world, i love you.\n"
     ]
    }
   ],
   "source": [
    "my_lower_string = my_string.lower()\n",
    "print(my_lower_string)"
   ]
  },
  {
   "cell_type": "code",
   "execution_count": 16,
   "metadata": {},
   "outputs": [
    {
     "name": "stdout",
     "output_type": "stream",
     "text": [
      "HELLO WORLD, I LOVE YOU.\n"
     ]
    }
   ],
   "source": [
    "\n",
    "my_upper_string = my_string.upper()\n",
    "print(my_upper_string)\n"
   ]
  },
  {
   "cell_type": "code",
   "execution_count": 17,
   "metadata": {},
   "outputs": [
    {
     "name": "stdout",
     "output_type": "stream",
     "text": [
      "Hello World, I Love You.\n"
     ]
    }
   ],
   "source": [
    "\n",
    "my_title_string = my_string.title()\n",
    "print(my_title_string)"
   ]
  },
  {
   "cell_type": "code",
   "execution_count": 18,
   "metadata": {},
   "outputs": [],
   "source": [
    "# List all the built in methods for this object\n",
    "# help(str)"
   ]
  },
  {
   "cell_type": "markdown",
   "metadata": {},
   "source": [
    "## My favorite string methods: replace, split, and join. "
   ]
  },
  {
   "cell_type": "code",
   "execution_count": 19,
   "metadata": {},
   "outputs": [
    {
     "name": "stdout",
     "output_type": "stream",
     "text": [
      "Hello, Weezy F. Baby is the Carter!\n",
      "['Hello', 'World!']\n",
      "Hello, World!\n"
     ]
    }
   ],
   "source": [
    "# Here are all the methods for strings \n",
    "\n",
    "## -- again thanks GPT\n",
    "# Define a sample string\n",
    "sample_string = \"Hello, World!\"\n",
    "\n",
    "# Replace\n",
    "replaced = sample_string.replace(\"World\", \"Weezy F. Baby is the Carter\")\n",
    "print(replaced)  # Output: \"Hello, Weezy F. Baby is the Carter\"\n",
    "# Explanation: Replaces all occurrences of a substring with another substring\n",
    "\n",
    "# Split\n",
    "split_string = sample_string.split(\", \")\n",
    "print(split_string)  # Output: [\"Hello\", \"World!\"]\n",
    "# Explanation: Splits the string into a list at each occurrence of the delimiter\n",
    "\n",
    "# Join\n",
    "joined_string = \", \".join(split_string)\n",
    "print(joined_string)  # Output: \"Hello, World!\"\n",
    "# Explanation: Joins elements of a list into a single string, separated by the specified delimiter"
   ]
  },
  {
   "cell_type": "markdown",
   "metadata": {},
   "source": [
    "## Other less important String methods"
   ]
  },
  {
   "cell_type": "code",
   "execution_count": 20,
   "metadata": {},
   "outputs": [
    {
     "name": "stdout",
     "output_type": "stream",
     "text": [
      "Hello, World!\n",
      "HELLO, WORLD!\n",
      "hello, world!\n",
      "Hello, world!\n",
      "Hello, World!\n",
      "hELLO, wORLD!\n",
      "7\n",
      "True\n",
      "True\n",
      "3\n",
      "False\n",
      "False\n",
      "False\n",
      "False\n",
      "False\n",
      "True\n"
     ]
    }
   ],
   "source": [
    "\n",
    "# Strip\n",
    "sample_string_with_spaces = \"   Hello, World!   \"\n",
    "stripped = sample_string_with_spaces.strip()\n",
    "print(stripped)  # Output: \"Hello, World!\"\n",
    "# Explanation: Removes leading and trailing whitespace\n",
    "\n",
    "# Uppercase\n",
    "upper_case = sample_string.upper()\n",
    "print(upper_case)  # Output: \"HELLO, WORLD!\"\n",
    "# Explanation: Converts all characters to uppercase\n",
    "\n",
    "# Lowercase\n",
    "lower_case = sample_string.lower()\n",
    "print(lower_case)  # Output: \"hello, world!\"\n",
    "# Explanation: Converts all characters to lowercase\n",
    "\n",
    "# Capitalize\n",
    "capitalized = sample_string.capitalize()\n",
    "print(capitalized)  # Output: \"Hello, world!\"\n",
    "# Explanation: Capitalizes the first character of the string\n",
    "\n",
    "# Title\n",
    "title_case = sample_string.title()\n",
    "print(title_case)  # Output: \"Hello, World!\"\n",
    "# Explanation: Capitalizes the first character of each word\n",
    "\n",
    "# Swapcase\n",
    "swap_case = sample_string.swapcase()\n",
    "print(swap_case)  # Output: \"hELLO, wORLD!\"\n",
    "# Explanation: Swaps the case of all characters\n",
    "\n",
    "# Find\n",
    "index = sample_string.find(\"World\")\n",
    "print(index)  # Output: 7\n",
    "# Explanation: Returns the index of the first occurrence of the substring, or -1 if not found\n",
    "\n",
    "# Startswith\n",
    "starts_with = sample_string.startswith(\"Hello\")\n",
    "print(starts_with)  # Output: True\n",
    "# Explanation: Returns True if the string starts with the specified substring\n",
    "\n",
    "# Endswith\n",
    "ends_with = sample_string.endswith(\"!\")\n",
    "print(ends_with)  # Output: True\n",
    "# Explanation: Returns True if the string ends with the specified substring\n",
    "\n",
    "# Count\n",
    "count = sample_string.count(\"l\")\n",
    "print(count)  # Output: 3\n",
    "# Explanation: Returns the number of occurrences of a substring in the string\n",
    "\n",
    "# Isalpha\n",
    "is_alpha = sample_string.isalpha()\n",
    "print(is_alpha)  # Output: False\n",
    "# Explanation: Returns True if all characters in the string are alphabetic and there is at least one character\n",
    "\n",
    "# Isdigit\n",
    "is_digit = sample_string.isdigit()\n",
    "print(is_digit)  # Output: False\n",
    "# Explanation: Returns True if all characters in the string are digits and there is at least one character\n",
    "\n",
    "# Isalnum\n",
    "is_alnum = sample_string.isalnum()\n",
    "print(is_alnum)  # Output: False\n",
    "# Explanation: Returns True if all characters in the string are alphanumeric and there is at least one character\n",
    "\n",
    "# Islower\n",
    "is_lower = sample_string.islower()\n",
    "print(is_lower)  # Output: False\n",
    "# Explanation: Returns True if all characters in the string are lowercase and there is at least one character\n",
    "\n",
    "# Isupper\n",
    "is_upper = sample_string.isupper()\n",
    "print(is_upper)  # Output: False\n",
    "# Explanation: Returns True if all characters in the string are uppercase and there is at least one character\n",
    "\n",
    "# Istitle\n",
    "is_title = sample_string.istitle()\n",
    "print(is_title)  # Output: True\n",
    "# Explanation: Returns True if the string is titlecased (each word starts with an uppercase letter)\n"
   ]
  },
  {
   "cell_type": "markdown",
   "metadata": {},
   "source": [
    "# Main data structures\n",
    "* Lists\n",
    "* Dictionaries\n",
    "* Sets\n",
    "* Tuples"
   ]
  },
  {
   "cell_type": "markdown",
   "metadata": {},
   "source": [
    "## Lists: The best data types in the world.\n",
    "\"A list is a data structure in Python that is a mutable, or changeable, ordered sequence of elements. Each element or value that is inside of a list is called an item.\"\n",
    "\n",
    "* You create a list by listing out items in between square brackets seperated by commas.  "
   ]
  },
  {
   "cell_type": "code",
   "execution_count": 21,
   "metadata": {},
   "outputs": [
    {
     "name": "stdout",
     "output_type": "stream",
     "text": [
      "<class 'list'> ['z', 'a', 'c', 'k', 'DESARIO']\n"
     ]
    }
   ],
   "source": [
    "# How to create a list.\n",
    "my_list = ['z', 'a', 'c', 'k', 'DESARIO']\n",
    "print(type(my_list), my_list)"
   ]
  },
  {
   "cell_type": "code",
   "execution_count": 22,
   "metadata": {},
   "outputs": [
    {
     "name": "stdout",
     "output_type": "stream",
     "text": [
      "first_element z\n",
      "last_element DESARIO\n",
      "first_three_elements ['z', 'a', 'c']\n"
     ]
    }
   ],
   "source": [
    "# Accessing elements within a list via indexing\n",
    "zeroith_element = my_list[0]\n",
    "print('first_element', zeroith_element)\n",
    "\n",
    "# # You can use negaive indexes.\n",
    "last_element = my_list[-1]\n",
    "print('last_element', last_element)\n",
    "\n",
    "# # You can access several elements by using :\n",
    "first_three_elements = my_list[0:3]\n",
    "\n",
    "print('first_three_elements', first_three_elements)"
   ]
  },
  {
   "cell_type": "markdown",
   "metadata": {},
   "source": [
    "### Adding and removing elements to a list using their built in methods. These methods happen 'in-place'."
   ]
  },
  {
   "cell_type": "code",
   "execution_count": 23,
   "metadata": {},
   "outputs": [
    {
     "name": "stdout",
     "output_type": "stream",
     "text": [
      "['z', 'a', 'c', 'k', 'DESARIO', '!']\n",
      "['z', 'a', 'c', 'k', 'DESARIO', '!', '!']\n",
      "['z', 'a', 'c', 'k', 'DESARIO', '!']\n"
     ]
    }
   ],
   "source": [
    "## NOTE THESE METHODS HAPPEN 'in-place'.\n",
    "# Adding items to a list\n",
    "my_list.append('!')\n",
    "print(my_list)\n",
    "\n",
    "my_list.append('!')\n",
    "print(my_list)\n",
    "\n",
    "# # # Removes JUST ONE of the elements from the list\n",
    "my_list.remove('!')\n",
    "print(my_list)"
   ]
  },
  {
   "cell_type": "code",
   "execution_count": 24,
   "metadata": {},
   "outputs": [
    {
     "data": {
      "text/plain": [
       "1"
      ]
     },
     "execution_count": 24,
     "metadata": {},
     "output_type": "execute_result"
    }
   ],
   "source": [
    "my_list.count('z')"
   ]
  },
  {
   "cell_type": "markdown",
   "metadata": {},
   "source": [
    "### Example of a method that does not happen in place. "
   ]
  },
  {
   "cell_type": "code",
   "execution_count": 25,
   "metadata": {},
   "outputs": [
    {
     "name": "stdout",
     "output_type": "stream",
     "text": [
      "hello world HELLO WORLD\n"
     ]
    }
   ],
   "source": [
    "my_string = 'hello world'\n",
    "my_new_string = my_string.upper()\n",
    "print(my_string, my_new_string)"
   ]
  },
  {
   "cell_type": "markdown",
   "metadata": {
    "collapsed": true,
    "jupyter": {
     "outputs_hidden": true
    }
   },
   "source": [
    "### QUESTOIN: How would we list all the methods of a list?\n"
   ]
  },
  {
   "cell_type": "code",
   "execution_count": 26,
   "metadata": {
    "scrolled": true
   },
   "outputs": [],
   "source": [
    "# Print all the methods of a list. \n",
    "# help(list)"
   ]
  },
  {
   "cell_type": "code",
   "execution_count": 27,
   "metadata": {},
   "outputs": [
    {
     "data": {
      "text/plain": [
       "['z', 'a', 'c', 'k', 'DESARIO', '!']"
      ]
     },
     "execution_count": 27,
     "metadata": {},
     "output_type": "execute_result"
    }
   ],
   "source": [
    "my_list"
   ]
  },
  {
   "cell_type": "code",
   "execution_count": 28,
   "metadata": {
    "scrolled": true
   },
   "outputs": [
    {
     "name": "stdout",
     "output_type": "stream",
     "text": [
      "['z', 'a', 'c', 'k', 'DESARIO', '!']\n",
      "['!', 'DESARIO', 'a', 'c', 'k', 'z']\n"
     ]
    }
   ],
   "source": [
    "print(my_list)\n",
    "# Sorting happens 'in-place' which means you dont have to set it equal to anything.\n",
    "my_list.sort()\n",
    "\n",
    "print(my_list)"
   ]
  },
  {
   "cell_type": "code",
   "execution_count": 29,
   "metadata": {},
   "outputs": [
    {
     "name": "stdout",
     "output_type": "stream",
     "text": [
      "['ZZZ', 'DESARIO', 'a', 'c', 'k', 'z']\n",
      "['ZZZ', 'DESARIO', 'a', 'c', 'k', 'BBB']\n"
     ]
    }
   ],
   "source": [
    "# Editing items in a list\n",
    "my_list[0] = \"ZZZ\"\n",
    "print(my_list)\n",
    "\n",
    "my_list[-1] = 'BBB'\n",
    "print(my_list)"
   ]
  },
  {
   "cell_type": "code",
   "execution_count": 30,
   "metadata": {},
   "outputs": [],
   "source": [
    "## Alot of other"
   ]
  },
  {
   "cell_type": "markdown",
   "metadata": {},
   "source": [
    "### Iteration and Loops with lists"
   ]
  },
  {
   "cell_type": "code",
   "execution_count": 31,
   "metadata": {},
   "outputs": [
    {
     "name": "stdout",
     "output_type": "stream",
     "text": [
      "ZZZ\n",
      "DESARIO\n",
      "ZZZ\n",
      "a\n",
      "c\n",
      "BBB\n"
     ]
    }
   ],
   "source": [
    "# Iterating through a list.\n",
    "my_list = ['ZZZ', 'DESARIO', 'ZZZ', 'a', 'c', 'BBB']\n",
    "\n",
    "for item in my_list:\n",
    "    print(item)"
   ]
  },
  {
   "cell_type": "code",
   "execution_count": 32,
   "metadata": {},
   "outputs": [
    {
     "name": "stdout",
     "output_type": "stream",
     "text": [
      "ZZZ\n",
      "DESARIO\n",
      "ZZZ\n",
      "a\n",
      "c\n",
      "BBB\n"
     ]
    }
   ],
   "source": [
    "# Many other languages use indexs to for iteration and loops. \n",
    "\n",
    "## THIS IS NOT PYTHONIC \n",
    "for i in range(0, len(my_list)):\n",
    "    print(my_list[i])\n",
    "\n",
    "## DO NOT DO THE ABOVE. "
   ]
  },
  {
   "cell_type": "code",
   "execution_count": 33,
   "metadata": {},
   "outputs": [
    {
     "name": "stdout",
     "output_type": "stream",
     "text": [
      "0 ZZZ\n",
      "1 DESARIO\n",
      "2 ZZZ\n",
      "3 a\n",
      "4 c\n",
      "5 BBB\n"
     ]
    }
   ],
   "source": [
    "# If you do need the index, use enumerate. \n",
    "# Iterating and indexing through a list. \n",
    "for index, item in enumerate(my_list):\n",
    "    print(index, item)"
   ]
  },
  {
   "cell_type": "markdown",
   "metadata": {},
   "source": [
    "### SUMMARY: Lists are versatile \n",
    "* They can store basically anything. \n",
    "* They are ordered. \n",
    "* They you can update the values of them easily. "
   ]
  },
  {
   "cell_type": "code",
   "execution_count": 34,
   "metadata": {},
   "outputs": [
    {
     "name": "stdout",
     "output_type": "stream",
     "text": [
      "['a', 'b', [1, 2, 3], {}, 99.99]\n"
     ]
    },
    {
     "data": {
      "text/plain": [
       "[1, 2, 3]"
      ]
     },
     "execution_count": 34,
     "metadata": {},
     "output_type": "execute_result"
    }
   ],
   "source": [
    "# Lists can contain other lists or any data type\n",
    "my_list = [ 'a', 'b', [1,2,3], dict(), 99.99 ]\n",
    "print(my_list)\n",
    "\n",
    "internal_list = my_list[2]\n",
    "internal_list"
   ]
  },
  {
   "cell_type": "code",
   "execution_count": 35,
   "metadata": {},
   "outputs": [
    {
     "name": "stdout",
     "output_type": "stream",
     "text": [
      "['lil wayne', 'drake', 'nicki minaj']\n"
     ]
    }
   ],
   "source": [
    "# Creating an empty list.\n",
    "a_list = []\n",
    "\n",
    "a_list.append('lil wayne')\n",
    "a_list.append('drake')\n",
    "a_list.append('nicki minaj')\n",
    "\n",
    "print(a_list)"
   ]
  },
  {
   "cell_type": "code",
   "execution_count": 36,
   "metadata": {},
   "outputs": [
    {
     "name": "stdout",
     "output_type": "stream",
     "text": [
      "3\n"
     ]
    }
   ],
   "source": [
    "# Finding the length of a list\n",
    "print(len(a_list))"
   ]
  },
  {
   "cell_type": "code",
   "execution_count": null,
   "metadata": {},
   "outputs": [],
   "source": []
  },
  {
   "cell_type": "code",
   "execution_count": 37,
   "metadata": {},
   "outputs": [
    {
     "name": "stdout",
     "output_type": "stream",
     "text": [
      "1 99 133\n"
     ]
    }
   ],
   "source": [
    "number_list = [5, 1, 6, 99, 22]\n",
    "\n",
    "smallest = min(number_list)\n",
    "\n",
    "largest = max(number_list)\n",
    "\n",
    "total = sum(number_list)\n",
    "\n",
    "print(smallest, largest, total)"
   ]
  },
  {
   "cell_type": "code",
   "execution_count": 38,
   "metadata": {},
   "outputs": [
    {
     "name": "stdout",
     "output_type": "stream",
     "text": [
      "[]\n",
      "[1, 2, 3, 4, 5]\n",
      "['apple', 'banana', 'cherry']\n",
      "[1, 'apple', 3.14, True]\n",
      "apple\n",
      "banana\n",
      "cherry\n",
      "cherry\n",
      "['apple', 'blueberry', 'cherry']\n",
      "['apple', 'blueberry', 'cherry', 'date']\n",
      "['blueberry', 'apple', 'blueberry', 'cherry', 'date']\n",
      "###############################################################################\n",
      "['apple', 'blueberry', 'cherry', 'date']\n",
      "###############################################################################\n",
      "date\n",
      "['apple', 'blueberry', 'cherry']\n"
     ]
    }
   ],
   "source": [
    "# HERE IS WHAT GPT THINKS YOU SHOULD KNOW ABOUT LISTS\n",
    "# Creating Lists\n",
    "empty_list = []  # An empty list\n",
    "numbers = [1, 2, 3, 4, 5]  # A list of integers\n",
    "fruits = [\"apple\", \"banana\", \"cherry\"]  # A list of strings\n",
    "mixed_list = [1, \"apple\", 3.14, True]  # A list with mixed data types\n",
    "\n",
    "# Printing the lists\n",
    "print(empty_list)  # Output: []\n",
    "print(numbers)  # Output: [1, 2, 3, 4, 5]\n",
    "print(fruits)  # Output: [\"apple\", \"banana\", \"cherry\"]\n",
    "print(mixed_list)  # Output: [1, \"apple\", 3.14, True]\n",
    "\n",
    "# Accessing Elements\n",
    "print(fruits[0])  # Output: \"apple\"\n",
    "# Accesses the first element (index 0) of the list\n",
    "\n",
    "print(fruits[1])  # Output: \"banana\"\n",
    "# Accesses the second element (index 1) of the list\n",
    "\n",
    "print(fruits[2])  # Output: \"cherry\"\n",
    "# Accesses the third element (index 2) of the list\n",
    "\n",
    "print(fruits[-1])  # Output: \"cherry\"\n",
    "# Accesses the last element of the list\n",
    "\n",
    "# Modifying Elements\n",
    "fruits[1] = \"blueberry\"\n",
    "print(fruits)  # Output: [\"apple\", \"blueberry\", \"cherry\"]\n",
    "# Changes the second element (index 1) of the list to \"blueberry\"\n",
    "\n",
    "# Adding Elements\n",
    "fruits.append(\"date\")\n",
    "print(fruits)  # Output: [\"apple\", \"blueberry\", \"cherry\", \"date\"]\n",
    "# Adds \"date\" to the end of the list\n",
    "\n",
    "fruits.insert(0, \"blueberry\")\n",
    "print(fruits)  # Output: ['blueberry', 'apple', 'blueberry', 'cherry', 'date']\n",
    "# Inserts \"blueberry\" at the first position (index 0) of the list\n",
    "\n",
    "# Removing Elements\n",
    "fruits.remove(\"blueberry\")\n",
    "print('#'*79)\n",
    "print(fruits)  # Output: ['apple', 'blueberry', 'cherry', 'date']\n",
    "print('#'*79)\n",
    "# Removes the first occurrence of \"blueberry\" from the list\n",
    "\n",
    "popped_fruit = fruits.pop()\n",
    "print(popped_fruit)  # Output: \"date\"\n",
    "print(fruits)  # Output: [\"apple\", \"blueberry\", \"cherry\"]\n",
    "# Removes and returns the last element of the list"
   ]
  },
  {
   "cell_type": "code",
   "execution_count": 39,
   "metadata": {},
   "outputs": [
    {
     "name": "stdout",
     "output_type": "stream",
     "text": [
      "[2, 3]\n",
      "[1, 2]\n",
      "[3, 4, 5]\n",
      "[4, 5]\n",
      "[1, 2, 3, 4, 5]\n",
      "[5, 4, 3, 2, 1]\n",
      "*******************************************************************************\n",
      "apple\n",
      "blueberry\n",
      "cherry\n"
     ]
    }
   ],
   "source": [
    "### GPT TY! \n",
    "\n",
    "# Basic List Operations\n",
    "numbers = [1, 2, 3, 4, 5]\n",
    "\n",
    "# Slicing Lists\n",
    "print(numbers[1:3])  # Output: [2, 3]\n",
    "# Returns a slice from index 1 to 2 (excluding index 3)\n",
    "\n",
    "print(numbers[:2])  # Output: [1, 2]\n",
    "# Returns a slice from the beginning to index 1 (excluding index 2)\n",
    "\n",
    "print(numbers[2:])  # Output: [3, 4, 5]\n",
    "# Returns a slice from index 2 to the end\n",
    "\n",
    "print(numbers[-2:])  # Output: [4, 5]\n",
    "# Returns a slice of the last two elements\n",
    "\n",
    "# Sorting Lists\n",
    "numbers_unsorted = [5, 2, 3, 1, 4]\n",
    "numbers_unsorted.sort()\n",
    "print(numbers_unsorted)  # Output: [1, 2, 3, 4, 5]\n",
    "# Sorts the list in ascending order\n",
    "\n",
    "# Reversing Lists\n",
    "numbers.reverse()\n",
    "print(numbers)  # Output: [5, 4, 3, 2, 1]\n",
    "# Reverses the order of the list\n",
    "\n",
    "# Looping Through Lists\n",
    "print('*'*79)\n",
    "for fruit in fruits:\n",
    "    print(fruit)\n",
    "# Output:\n",
    "# apple\n",
    "# blueberry\n",
    "# cherry\n",
    "\n"
   ]
  },
  {
   "cell_type": "markdown",
   "metadata": {},
   "source": [
    "# Dictionaries\n",
    "\"A dictionary consists of a collection of key-value pairs. Each key-value pair maps the key to its associated value.\n",
    "\n",
    "You can define a dictionary by enclosing a comma-separated list of key-value pairs in curly braces ({}). A colon (:) separates each key from its associated value.\"\n",
    "\n",
    "Other programming languages might call this a 'hash', 'hashtable' or 'hashmap'."
   ]
  },
  {
   "cell_type": "markdown",
   "metadata": {},
   "source": [
    "## Defining and filling a dictionary."
   ]
  },
  {
   "cell_type": "code",
   "execution_count": 40,
   "metadata": {},
   "outputs": [
    {
     "data": {
      "text/plain": [
       "{'key_one': 22,\n",
       " 'key_two': 200,\n",
       " 'key_three': [1, 2, 3],\n",
       " 'key_four': 'hello world',\n",
       " 4: 'something'}"
      ]
     },
     "execution_count": 40,
     "metadata": {},
     "output_type": "execute_result"
    }
   ],
   "source": [
    "my_dict = { 'key_one': 22, \n",
    "           'key_two': 200, \n",
    "           'key_three': [1,2,3], \n",
    "           'key_four': 'hello world', \n",
    "           4: 'something'}\n",
    "my_dict"
   ]
  },
  {
   "cell_type": "code",
   "execution_count": 41,
   "metadata": {},
   "outputs": [
    {
     "data": {
      "text/plain": [
       "{'key_one': 22,\n",
       " 'key_two': 200,\n",
       " 'key_three': [1, 2, 3],\n",
       " 'key_four': 'hello world',\n",
       " 4: 'something',\n",
       " 'my_new_key': 300}"
      ]
     },
     "execution_count": 41,
     "metadata": {},
     "output_type": "execute_result"
    }
   ],
   "source": [
    "my_dict['my_new_key'] = 300\n",
    "my_dict"
   ]
  },
  {
   "cell_type": "code",
   "execution_count": 42,
   "metadata": {},
   "outputs": [
    {
     "ename": "KeyError",
     "evalue": "'unknown_key'",
     "output_type": "error",
     "traceback": [
      "\u001b[0;31m---------------------------------------------------------------------------\u001b[0m",
      "\u001b[0;31mKeyError\u001b[0m                                  Traceback (most recent call last)",
      "Cell \u001b[0;32mIn[42], line 2\u001b[0m\n\u001b[1;32m      1\u001b[0m \u001b[38;5;66;03m# This will throw an error\u001b[39;00m\n\u001b[0;32m----> 2\u001b[0m \u001b[38;5;28mprint\u001b[39m(my_dict[\u001b[38;5;124m'\u001b[39m\u001b[38;5;124munknown_key\u001b[39m\u001b[38;5;124m'\u001b[39m])\n",
      "\u001b[0;31mKeyError\u001b[0m: 'unknown_key'"
     ]
    }
   ],
   "source": [
    "# This will throw an error\n",
    "print(my_dict['unknown_key'])"
   ]
  },
  {
   "cell_type": "markdown",
   "metadata": {},
   "source": [
    "## Dictionary keys must be UNIQUE.  "
   ]
  },
  {
   "cell_type": "code",
   "execution_count": 43,
   "metadata": {},
   "outputs": [
    {
     "name": "stdout",
     "output_type": "stream",
     "text": [
      "{'key_one': 999, 'key_two': 200}\n"
     ]
    }
   ],
   "source": [
    "# Dictionary keys must be UNIQUE.\n",
    "my_dict = {'key_one': 100, 'key_two': 200, 'key_one': 999}\n",
    "print(my_dict)"
   ]
  },
  {
   "cell_type": "code",
   "execution_count": 44,
   "metadata": {},
   "outputs": [
    {
     "data": {
      "text/plain": [
       "dict_values([999, 200])"
      ]
     },
     "execution_count": 44,
     "metadata": {},
     "output_type": "execute_result"
    }
   ],
   "source": [
    "my_dict.values()"
   ]
  },
  {
   "cell_type": "code",
   "execution_count": 45,
   "metadata": {},
   "outputs": [
    {
     "data": {
      "text/plain": [
       "{'key_two': 200}"
      ]
     },
     "execution_count": 45,
     "metadata": {},
     "output_type": "execute_result"
    }
   ],
   "source": [
    "my_dict.pop('key_one')\n",
    "my_dict"
   ]
  },
  {
   "cell_type": "code",
   "execution_count": 46,
   "metadata": {},
   "outputs": [
    {
     "data": {
      "text/plain": [
       "{'key_one': 22,\n",
       " 'key_two': 200,\n",
       " 'key_three': [1, 2, 3],\n",
       " 'key_four': 'hello world',\n",
       " 4: 'something'}"
      ]
     },
     "execution_count": 46,
     "metadata": {},
     "output_type": "execute_result"
    }
   ],
   "source": [
    "my_dict = { 'key_one': 22, \n",
    "           'key_two': 200, \n",
    "           'key_three': [1,2,3], \n",
    "           'key_four': 'hello world', \n",
    "           4: 'something'}\n",
    "my_dict"
   ]
  },
  {
   "cell_type": "markdown",
   "metadata": {},
   "source": [
    "## Properly iterate through a dictionary"
   ]
  },
  {
   "cell_type": "code",
   "execution_count": 47,
   "metadata": {},
   "outputs": [
    {
     "name": "stdout",
     "output_type": "stream",
     "text": [
      "key_one 22\n",
      "key_two 200\n",
      "key_three [1, 2, 3]\n",
      "key_four hello world\n",
      "4 something\n"
     ]
    }
   ],
   "source": [
    "# Iterating through dictionaries\n",
    "for key in my_dict:\n",
    "    print( key, my_dict[key] )\n",
    "    "
   ]
  },
  {
   "cell_type": "code",
   "execution_count": 48,
   "metadata": {},
   "outputs": [
    {
     "name": "stdout",
     "output_type": "stream",
     "text": [
      "key_one 22\n",
      "key_two 200\n",
      "key_three [1, 2, 3]\n",
      "key_four hello world\n",
      "4 something\n"
     ]
    }
   ],
   "source": [
    "# This is another way to do it, but techincally slower. \n",
    "for key, value in my_dict.items(): \n",
    "    print(key,value)"
   ]
  },
  {
   "cell_type": "markdown",
   "metadata": {},
   "source": [
    "# Sets\n",
    "* The main thing I use sets for is to remove duplicate things.\n",
    "* Sets are unordered.\n",
    "* Set elements are unique. Duplicate elements are not allowed."
   ]
  },
  {
   "cell_type": "code",
   "execution_count": 49,
   "metadata": {},
   "outputs": [
    {
     "data": {
      "text/plain": [
       "{'a', 'b', 'c', 'z'}"
      ]
     },
     "execution_count": 49,
     "metadata": {},
     "output_type": "execute_result"
    }
   ],
   "source": [
    "my_set = set( ('z', 'b', 'c', 'a', 'a', 'a', 'a', 'z') )\n",
    "my_set"
   ]
  },
  {
   "cell_type": "code",
   "execution_count": 50,
   "metadata": {},
   "outputs": [
    {
     "ename": "TypeError",
     "evalue": "'set' object is not subscriptable",
     "output_type": "error",
     "traceback": [
      "\u001b[0;31m---------------------------------------------------------------------------\u001b[0m",
      "\u001b[0;31mTypeError\u001b[0m                                 Traceback (most recent call last)",
      "Cell \u001b[0;32mIn[50], line 3\u001b[0m\n\u001b[1;32m      1\u001b[0m \u001b[38;5;66;03m# THIS WILL THROW AN ERROR\u001b[39;00m\n\u001b[1;32m      2\u001b[0m \u001b[38;5;66;03m# BECAUSE SETS ARE 'unordered'\u001b[39;00m\n\u001b[0;32m----> 3\u001b[0m my_set[\u001b[38;5;241m0\u001b[39m]\n",
      "\u001b[0;31mTypeError\u001b[0m: 'set' object is not subscriptable"
     ]
    }
   ],
   "source": [
    "# THIS WILL THROW AN ERROR\n",
    "# BECAUSE SETS ARE 'unordered'\n",
    "my_set[0]"
   ]
  },
  {
   "cell_type": "code",
   "execution_count": 51,
   "metadata": {},
   "outputs": [
    {
     "data": {
      "text/plain": [
       "{'b', 'c', 'x', 'z'}"
      ]
     },
     "execution_count": 51,
     "metadata": {},
     "output_type": "execute_result"
    }
   ],
   "source": [
    "my_set.add('x')\n",
    "my_set.remove('a')\n",
    "my_set"
   ]
  },
  {
   "cell_type": "code",
   "execution_count": 52,
   "metadata": {},
   "outputs": [
    {
     "data": {
      "text/plain": [
       "{'x', 'z'}"
      ]
     },
     "execution_count": 52,
     "metadata": {},
     "output_type": "execute_result"
    }
   ],
   "source": [
    "my_other_set = set( ('z', 'x') )\n",
    "my_set.intersection(my_other_set)"
   ]
  },
  {
   "cell_type": "code",
   "execution_count": 53,
   "metadata": {
    "scrolled": true
   },
   "outputs": [],
   "source": [
    "# help(my_set)"
   ]
  },
  {
   "cell_type": "code",
   "execution_count": 54,
   "metadata": {},
   "outputs": [
    {
     "name": "stdout",
     "output_type": "stream",
     "text": [
      "c\n",
      "x\n",
      "b\n",
      "z\n"
     ]
    }
   ],
   "source": [
    "# Iterate through a set.\n",
    "for item in my_set:\n",
    "    print(item)"
   ]
  },
  {
   "cell_type": "markdown",
   "metadata": {},
   "source": [
    "# Tuples are stupid\n",
    "A tuple is similar to a list in that it's an ordered sequence of elements. However, tuples can not be changed once created (they are \"immutable\"). Tuples are created by placing comma-separated values inside parentheses `()`."
   ]
  },
  {
   "cell_type": "code",
   "execution_count": 55,
   "metadata": {},
   "outputs": [
    {
     "data": {
      "text/plain": [
       "('bar', 100, 200, 'foo')"
      ]
     },
     "execution_count": 55,
     "metadata": {},
     "output_type": "execute_result"
    }
   ],
   "source": [
    "my_tuple = (\"bar\", 100, 200, \"foo\")\n",
    "my_tuple"
   ]
  },
  {
   "cell_type": "code",
   "execution_count": 56,
   "metadata": {},
   "outputs": [
    {
     "ename": "TypeError",
     "evalue": "'tuple' object does not support item assignment",
     "output_type": "error",
     "traceback": [
      "\u001b[0;31m---------------------------------------------------------------------------\u001b[0m",
      "\u001b[0;31mTypeError\u001b[0m                                 Traceback (most recent call last)",
      "Cell \u001b[0;32mIn[56], line 1\u001b[0m\n\u001b[0;32m----> 1\u001b[0m my_tuple[\u001b[38;5;241m0\u001b[39m] \u001b[38;5;241m=\u001b[39m \u001b[38;5;124m'\u001b[39m\u001b[38;5;124mzack\u001b[39m\u001b[38;5;124m'\u001b[39m\n",
      "\u001b[0;31mTypeError\u001b[0m: 'tuple' object does not support item assignment"
     ]
    }
   ],
   "source": [
    "my_tuple[0] = 'zack'"
   ]
  },
  {
   "cell_type": "markdown",
   "metadata": {},
   "source": [
    "# Loops and iteration."
   ]
  },
  {
   "cell_type": "code",
   "execution_count": 57,
   "metadata": {},
   "outputs": [
    {
     "name": "stdout",
     "output_type": "stream",
     "text": [
      "11\n",
      "14\n",
      "12\n",
      "109\n"
     ]
    }
   ],
   "source": [
    "# Iterating through a list\n",
    "my_list = [1,4,2,99]\n",
    "for item in my_list:\n",
    "    print(item + 10)"
   ]
  },
  {
   "cell_type": "code",
   "execution_count": 58,
   "metadata": {},
   "outputs": [
    {
     "name": "stdout",
     "output_type": "stream",
     "text": [
      "The value is currently 0\n",
      "The value is currently 1\n",
      "The value is currently 2\n",
      "The value is currently 3\n",
      "The value is currently 4\n"
     ]
    }
   ],
   "source": [
    "for i in range(5):\n",
    "    print('The value is currently', i)"
   ]
  },
  {
   "cell_type": "code",
   "execution_count": 59,
   "metadata": {},
   "outputs": [
    {
     "name": "stdout",
     "output_type": "stream",
     "text": [
      "1\n",
      "2\n",
      "3\n",
      "4\n",
      "5\n",
      "6\n",
      "7\n",
      "8\n",
      "9\n",
      "10\n"
     ]
    }
   ],
   "source": [
    "i = 0\n",
    "\n",
    "while i < 10:\n",
    "    i += 1\n",
    "    print(i)\n",
    "\n"
   ]
  },
  {
   "cell_type": "markdown",
   "metadata": {},
   "source": [
    "# Conditions statements\n",
    "We can also use comparison and logic operators: `<, >, ==, !=, <=, >=` and statements of identity such as `and, or, not`. The data type returned by this is called a boolean.\n",
    "\n",
    "* Equals: `a == b`\n",
    "\n",
    "* Not Equals: `a != b`\n",
    "\n",
    "* Less than: `a < b`\n",
    "\n",
    "* Less than or equal to: `a <= b`\n",
    "\n",
    "* Greater than: `a > b`\n",
    "\n",
    "* Greater than or equal to: `a >= b`\n",
    "\n",
    "\n",
    "These conditions can be used in several ways, most commonly in \"if statements\" and loops.\n",
    "\n",
    "An \"if statement\" is written by using the if keyword."
   ]
  },
  {
   "cell_type": "code",
   "execution_count": 60,
   "metadata": {},
   "outputs": [
    {
     "name": "stdout",
     "output_type": "stream",
     "text": [
      "False\n",
      "True\n"
     ]
    }
   ],
   "source": [
    "a = 5\n",
    "print(a > 10)\n",
    "\n",
    "print(a <= 5)"
   ]
  },
  {
   "cell_type": "code",
   "execution_count": 61,
   "metadata": {},
   "outputs": [
    {
     "data": {
      "text/plain": [
       "True"
      ]
     },
     "execution_count": 61,
     "metadata": {},
     "output_type": "execute_result"
    }
   ],
   "source": [
    "a = 5\n",
    "b = 3\n",
    "a != b"
   ]
  },
  {
   "cell_type": "code",
   "execution_count": 62,
   "metadata": {},
   "outputs": [
    {
     "data": {
      "text/plain": [
       "True"
      ]
     },
     "execution_count": 62,
     "metadata": {},
     "output_type": "execute_result"
    }
   ],
   "source": [
    "a > b"
   ]
  },
  {
   "cell_type": "markdown",
   "metadata": {},
   "source": [
    "## If / Else statements"
   ]
  },
  {
   "cell_type": "code",
   "execution_count": 63,
   "metadata": {},
   "outputs": [
    {
     "name": "stdout",
     "output_type": "stream",
     "text": [
      "a is larger than b\n"
     ]
    }
   ],
   "source": [
    "a = 5\n",
    "b = 3\n",
    "\n",
    "if a > b:\n",
    "    print('a is larger than b')"
   ]
  },
  {
   "cell_type": "markdown",
   "metadata": {},
   "source": [
    "## How would you write an if statement to check if a and be are equal..?"
   ]
  },
  {
   "cell_type": "code",
   "execution_count": 64,
   "metadata": {},
   "outputs": [],
   "source": [
    "#### How would you write an if statement to check if a and be are equal..?\n"
   ]
  },
  {
   "cell_type": "markdown",
   "metadata": {},
   "source": [
    "### The `elif` keyword is pythons way of saying \"if the previous conditions were not true, then try this condition\".\n",
    "\n",
    "### The `else` keyword catches anything which isn't caught by the preceding conditions."
   ]
  },
  {
   "cell_type": "code",
   "execution_count": 65,
   "metadata": {},
   "outputs": [
    {
     "name": "stdout",
     "output_type": "stream",
     "text": [
      "A < B\n"
     ]
    }
   ],
   "source": [
    "### How would you write a series of if statements to check if a > b or b < a or a == b?\n",
    "a = 1\n",
    "b = 7\n",
    "if a > b:\n",
    "    print('A > B')\n",
    "elif a < b:\n",
    "    print('A < B')\n",
    "else:\n",
    "    print('A == B')\n",
    "    "
   ]
  },
  {
   "cell_type": "markdown",
   "metadata": {},
   "source": [
    "## Combining logical operators"
   ]
  },
  {
   "cell_type": "code",
   "execution_count": 66,
   "metadata": {},
   "outputs": [
    {
     "name": "stdout",
     "output_type": "stream",
     "text": [
      "a is larger than b and c\n"
     ]
    }
   ],
   "source": [
    "\n",
    "\n",
    "a = 100\n",
    "b = 10\n",
    "c = 77\n",
    "\n",
    "if (a > b) and (a > c):\n",
    "    print('a is larger than b and c')"
   ]
  },
  {
   "cell_type": "code",
   "execution_count": 67,
   "metadata": {},
   "outputs": [
    {
     "name": "stdout",
     "output_type": "stream",
     "text": [
      "a or b is greater than c\n"
     ]
    }
   ],
   "source": [
    "if (a > b) | (b > c):\n",
    "    print('a or b is greater than c')"
   ]
  },
  {
   "cell_type": "markdown",
   "metadata": {},
   "source": [
    "# Loops with conditional statements\n",
    "* My favorite cheat codes. break."
   ]
  },
  {
   "cell_type": "code",
   "execution_count": 68,
   "metadata": {},
   "outputs": [
    {
     "name": "stdout",
     "output_type": "stream",
     "text": [
      "0\n",
      "1\n",
      "2\n",
      "3\n",
      "4\n",
      "5\n"
     ]
    }
   ],
   "source": [
    "\n",
    "for i in range(0, 10):\n",
    "    print(i)\n",
    "    if i == 5:\n",
    "        break"
   ]
  },
  {
   "cell_type": "markdown",
   "metadata": {},
   "source": [
    "___\n",
    "# Functions\n",
    "How to make them and why we use them."
   ]
  },
  {
   "cell_type": "code",
   "execution_count": 69,
   "metadata": {},
   "outputs": [
    {
     "name": "stdout",
     "output_type": "stream",
     "text": [
      "You are doing good work, Adriana!\n",
      "Thank you very much for your efforts on this project.\n",
      "\n",
      "You are doing good work, Billy!\n",
      "Thank you very much for your efforts on this project.\n",
      "\n",
      "You are doing good work, Caroline!\n",
      "Thank you very much for your efforts on this project.\n"
     ]
    }
   ],
   "source": [
    "print(\"You are doing good work, Adriana!\")\n",
    "print(\"Thank you very much for your efforts on this project.\")\n",
    "\n",
    "print(\"\\nYou are doing good work, Billy!\")\n",
    "print(\"Thank you very much for your efforts on this project.\")\n",
    "\n",
    "print(\"\\nYou are doing good work, Caroline!\")\n",
    "print(\"Thank you very much for your efforts on this project.\")"
   ]
  },
  {
   "cell_type": "code",
   "execution_count": 70,
   "metadata": {},
   "outputs": [
    {
     "name": "stdout",
     "output_type": "stream",
     "text": [
      "\n",
      "You are doing good work, Adriana!\n",
      "Thank you very much for your efforts on this project.\n",
      "\n",
      "You are doing good work, Billy!\n",
      "Thank you very much for your efforts on this project.\n",
      "\n",
      "You are doing good work, Caroline!\n",
      "Thank you very much for your efforts on this project.\n"
     ]
    }
   ],
   "source": [
    "def thank_you(name):\n",
    "    # This function prints a two-line personalized thank you message.\n",
    "    print(\"\\nYou are doing good work, %s!\" % name)\n",
    "    print(\"Thank you very much for your efforts on this project.\")\n",
    "    \n",
    "thank_you(name='Adriana')\n",
    "thank_you(name='Billy')\n",
    "thank_you(name='Caroline')"
   ]
  },
  {
   "cell_type": "code",
   "execution_count": 71,
   "metadata": {},
   "outputs": [
    {
     "name": "stdout",
     "output_type": "stream",
     "text": [
      "50.0\n"
     ]
    }
   ],
   "source": [
    "def my_function(x):\n",
    "    \"\"\"\n",
    "    Function that halfs the input variable. \n",
    "    \"\"\"\n",
    "\n",
    "    return_value = x / 2.0\n",
    "    return return_value\n",
    "\n",
    "\n",
    "my_value = 100\n",
    "new_value = my_function(x = 100)\n",
    "print(new_value)"
   ]
  },
  {
   "cell_type": "markdown",
   "metadata": {},
   "source": [
    "### Class question\n",
    "Given a list of numbers, apply my_function to each element in the list and store it in a new list.\n"
   ]
  },
  {
   "cell_type": "code",
   "execution_count": 72,
   "metadata": {},
   "outputs": [],
   "source": [
    "# Given a list of numbers, \n",
    "# apply my_function to each element in the list \n",
    "# and store it in a new list.\n",
    "\n",
    "my_numbers = [1, 1, 2, 3, 5, 8, 13, 21, 34]\n"
   ]
  },
  {
   "cell_type": "code",
   "execution_count": 73,
   "metadata": {},
   "outputs": [
    {
     "data": {
      "text/plain": [
       "[0.5, 0.5, 1.0, 1.5, 2.5, 4.0, 6.5, 10.5, 17.0]"
      ]
     },
     "execution_count": 73,
     "metadata": {},
     "output_type": "execute_result"
    }
   ],
   "source": [
    "# List comprehensions.\n",
    "[my_function(item) for item in my_numbers]"
   ]
  },
  {
   "cell_type": "code",
   "execution_count": 74,
   "metadata": {},
   "outputs": [
    {
     "data": {
      "text/plain": [
       "[101, 101, 102, 103, 105, 108, 113, 121, 134]"
      ]
     },
     "execution_count": 74,
     "metadata": {},
     "output_type": "execute_result"
    }
   ],
   "source": [
    "my_counter_list = [ 100 + item for item in my_numbers]\n",
    "my_counter_list"
   ]
  },
  {
   "cell_type": "code",
   "execution_count": null,
   "metadata": {},
   "outputs": [],
   "source": []
  },
  {
   "cell_type": "markdown",
   "metadata": {},
   "source": [
    "# Side quest, comments.\n",
    "A comment is anything in your code that follows a # or is contained within three quotations. \n",
    "\n",
    "`# Comment goes here.`\n",
    "or\n",
    "`''' Comment goes here. '''`\n",
    "\n",
    "#### What makes a good comment?\n",
    "* It is short and to the point, but a complete thought. Most comments should be written in complete sentences.\n",
    "* It explains your thinking, so that when you return to the code later you will understand how you were approaching the problem.\n",
    "* It explains your thinking, so that others who work with your code will understand your overall approach to a problem.\n",
    "* It explains particularly difficult sections of code in detail.\n",
    "\n",
    "\n",
    "#### When should you write comments?\n",
    "* When you have to think about code before writing it.\n",
    "* When you are likely to forget later exactly how you were approaching a problem.\n",
    "* When there is more than one way to solve a problem.\n",
    "* When others are unlikely to anticipate your way of thinking about a problem.\n",
    "\n",
    "## Writing good comments is one of the clear signs of a good programmer. If you have any real interest in taking programming seriously, start using comments now. You will see them throughout the examples in these notebooks."
   ]
  },
  {
   "cell_type": "code",
   "execution_count": 75,
   "metadata": {},
   "outputs": [
    {
     "name": "stdout",
     "output_type": "stream",
     "text": [
      "2 90 3.0 1 64\n"
     ]
    }
   ],
   "source": [
    "# Listing all the basic mathematical functions. \n",
    "\"\"\" \n",
    "multi line comments\n",
    "like this and that\n",
    "\n",
    "and all this stuff\n",
    "\"\"\"\n",
    "\n",
    "addition = 1 + 1\n",
    "\n",
    "multiply = 9 * 10\n",
    "\n",
    "divide = 12 / 4\n",
    "\n",
    "modulo = 10 % 3\n",
    "\n",
    "power = 2**6\n",
    "\n",
    "print(addition, multiply, divide, modulo, power)"
   ]
  }
 ],
 "metadata": {
  "kernelspec": {
   "display_name": "Python 3 (ipykernel)",
   "language": "python",
   "name": "python3"
  },
  "language_info": {
   "codemirror_mode": {
    "name": "ipython",
    "version": 3
   },
   "file_extension": ".py",
   "mimetype": "text/x-python",
   "name": "python",
   "nbconvert_exporter": "python",
   "pygments_lexer": "ipython3",
   "version": "3.12.4"
  }
 },
 "nbformat": 4,
 "nbformat_minor": 4
}
